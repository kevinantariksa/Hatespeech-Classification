{
 "cells": [
  {
   "cell_type": "code",
   "execution_count": 1,
   "metadata": {
    "scrolled": false
   },
   "outputs": [],
   "source": [
    "#memuat Library\n",
    "import numpy as np\n",
    "import pandas as pd\n",
    "import sklearn\n",
    "from sklearn import model_selection, preprocessing, linear_model, naive_bayes, metrics, svm\n",
    "from sklearn.feature_extraction.text import TfidfVectorizer, CountVectorizer\n",
    "from sklearn.pipeline import make_pipeline\n",
    "from sklearn.model_selection import StratifiedKFold,train_test_split\n",
    "from gensim.models import Word2Vec\n",
    "import matplotlib.pyplot as plt\n",
    "from sklearn import metrics\n",
    "import itertools\n",
    "import gensim \n",
    "import nltk\n",
    "import re\n",
    "from nltk.corpus import stopwords\n"
   ]
  },
  {
   "cell_type": "code",
   "execution_count": 2,
   "metadata": {
    "scrolled": false
   },
   "outputs": [
    {
     "data": {
      "text/plain": [
       "(21304, 14)"
      ]
     },
     "execution_count": 2,
     "metadata": {},
     "output_type": "execute_result"
    }
   ],
   "source": [
    "#memuat dataset\n",
    "dataset = pd.read_csv('dataFinal.csv',encoding = \"iso-8859-1\",sep='\\n',delimiter = ';')\n",
    "dataset.shape"
   ]
  },
  {
   "cell_type": "code",
   "execution_count": 3,
   "metadata": {
    "scrolled": false
   },
   "outputs": [
    {
     "data": {
      "text/html": [
       "<div>\n",
       "<style scoped>\n",
       "    .dataframe tbody tr th:only-of-type {\n",
       "        vertical-align: middle;\n",
       "    }\n",
       "\n",
       "    .dataframe tbody tr th {\n",
       "        vertical-align: top;\n",
       "    }\n",
       "\n",
       "    .dataframe thead th {\n",
       "        text-align: right;\n",
       "    }\n",
       "</style>\n",
       "<table border=\"1\" class=\"dataframe\">\n",
       "  <thead>\n",
       "    <tr style=\"text-align: right;\">\n",
       "      <th></th>\n",
       "      <th>tweet_date</th>\n",
       "      <th>tweet_id</th>\n",
       "      <th>tweet_source</th>\n",
       "      <th>tweet_user</th>\n",
       "      <th>tweet_user_location</th>\n",
       "      <th>tweet_user_follower</th>\n",
       "      <th>tweet_user_friends</th>\n",
       "      <th>tweet_user_nstatuses</th>\n",
       "      <th>tweet_hashtags</th>\n",
       "      <th>tweet_mentions</th>\n",
       "      <th>tweet_text</th>\n",
       "      <th>label</th>\n",
       "      <th>sasaran_hatespeech</th>\n",
       "      <th>subjek_hatespeech</th>\n",
       "    </tr>\n",
       "  </thead>\n",
       "  <tbody>\n",
       "    <tr>\n",
       "      <th>0</th>\n",
       "      <td>07/04/2019 08.42</td>\n",
       "      <td>1,11E+18</td>\n",
       "      <td>Twitter for Android</td>\n",
       "      <td>Nsahasthodi</td>\n",
       "      <td>NaN</td>\n",
       "      <td>3</td>\n",
       "      <td>27</td>\n",
       "      <td>19</td>\n",
       "      <td>2019GantiPresiden 2019PrabowoSandiMenang putih...</td>\n",
       "      <td>NaN</td>\n",
       "      <td>antusiasme masyarakat akan hadirnya pemimpin m...</td>\n",
       "      <td>0</td>\n",
       "      <td>NaN</td>\n",
       "      <td>NaN</td>\n",
       "    </tr>\n",
       "    <tr>\n",
       "      <th>1</th>\n",
       "      <td>07/04/2019 08.42</td>\n",
       "      <td>1,11E+18</td>\n",
       "      <td>Twitter for Android</td>\n",
       "      <td>dimaspujamahar2</td>\n",
       "      <td>NaN</td>\n",
       "      <td>22</td>\n",
       "      <td>148</td>\n",
       "      <td>583</td>\n",
       "      <td>2019GantiPresiden TheGreatCampaignOfPrabowo Ak...</td>\n",
       "      <td>PowerOfReceh</td>\n",
       "      <td>yo gas lagii</td>\n",
       "      <td>0</td>\n",
       "      <td>NaN</td>\n",
       "      <td>NaN</td>\n",
       "    </tr>\n",
       "    <tr>\n",
       "      <th>2</th>\n",
       "      <td>07/04/2019 08.42</td>\n",
       "      <td>1,11E+18</td>\n",
       "      <td>Twitter for Android</td>\n",
       "      <td>Cahaya27267479</td>\n",
       "      <td>Bali, Indonesia</td>\n",
       "      <td>73</td>\n",
       "      <td>359</td>\n",
       "      <td>112</td>\n",
       "      <td>TheGreatCampaignOfPrabowo AkalSehatPutihkanGBK...</td>\n",
       "      <td>NaN</td>\n",
       "      <td>hanya kekuatan iman yang mampu mengumpulkan um...</td>\n",
       "      <td>0</td>\n",
       "      <td>NaN</td>\n",
       "      <td>NaN</td>\n",
       "    </tr>\n",
       "    <tr>\n",
       "      <th>3</th>\n",
       "      <td>07/04/2019 08.42</td>\n",
       "      <td>1,11E+18</td>\n",
       "      <td>Twitter for Android</td>\n",
       "      <td>her_alone</td>\n",
       "      <td>Bali Island Of Peace Indonesia</td>\n",
       "      <td>4140</td>\n",
       "      <td>178</td>\n",
       "      <td>33712</td>\n",
       "      <td>2019GantiPresiden</td>\n",
       "      <td>NaN</td>\n",
       "      <td>hal itu terulang di pilpres 2019 inibahkan msh...</td>\n",
       "      <td>0</td>\n",
       "      <td>NaN</td>\n",
       "      <td>NaN</td>\n",
       "    </tr>\n",
       "    <tr>\n",
       "      <th>4</th>\n",
       "      <td>07/04/2019 08.41</td>\n",
       "      <td>1,11E+18</td>\n",
       "      <td>Twitter for Android</td>\n",
       "      <td>lailiyah3</td>\n",
       "      <td>Surabaya</td>\n",
       "      <td>194</td>\n",
       "      <td>409</td>\n",
       "      <td>2684</td>\n",
       "      <td>2019GantiPresiden</td>\n",
       "      <td>KwikKianGie_</td>\n",
       "      <td>orang gila masuk dpt</td>\n",
       "      <td>0</td>\n",
       "      <td>NaN</td>\n",
       "      <td>NaN</td>\n",
       "    </tr>\n",
       "  </tbody>\n",
       "</table>\n",
       "</div>"
      ],
      "text/plain": [
       "         tweet_date  tweet_id         tweet_source       tweet_user  \\\n",
       "0  07/04/2019 08.42  1,11E+18  Twitter for Android      Nsahasthodi   \n",
       "1  07/04/2019 08.42  1,11E+18  Twitter for Android  dimaspujamahar2   \n",
       "2  07/04/2019 08.42  1,11E+18  Twitter for Android   Cahaya27267479   \n",
       "3  07/04/2019 08.42  1,11E+18  Twitter for Android        her_alone   \n",
       "4  07/04/2019 08.41  1,11E+18  Twitter for Android        lailiyah3   \n",
       "\n",
       "              tweet_user_location  tweet_user_follower  tweet_user_friends  \\\n",
       "0                             NaN                    3                  27   \n",
       "1                             NaN                   22                 148   \n",
       "2                 Bali, Indonesia                   73                 359   \n",
       "3  Bali Island Of Peace Indonesia                 4140                 178   \n",
       "4                        Surabaya                  194                 409   \n",
       "\n",
       "   tweet_user_nstatuses                                     tweet_hashtags  \\\n",
       "0                    19  2019GantiPresiden 2019PrabowoSandiMenang putih...   \n",
       "1                   583  2019GantiPresiden TheGreatCampaignOfPrabowo Ak...   \n",
       "2                   112  TheGreatCampaignOfPrabowo AkalSehatPutihkanGBK...   \n",
       "3                 33712                                  2019GantiPresiden   \n",
       "4                  2684                                  2019GantiPresiden   \n",
       "\n",
       "  tweet_mentions                                         tweet_text  label  \\\n",
       "0            NaN  antusiasme masyarakat akan hadirnya pemimpin m...      0   \n",
       "1   PowerOfReceh                                      yo gas lagii       0   \n",
       "2            NaN  hanya kekuatan iman yang mampu mengumpulkan um...      0   \n",
       "3            NaN  hal itu terulang di pilpres 2019 inibahkan msh...      0   \n",
       "4   KwikKianGie_                              orang gila masuk dpt       0   \n",
       "\n",
       "  sasaran_hatespeech subjek_hatespeech  \n",
       "0                NaN               NaN  \n",
       "1                NaN               NaN  \n",
       "2                NaN               NaN  \n",
       "3                NaN               NaN  \n",
       "4                NaN               NaN  "
      ]
     },
     "execution_count": 3,
     "metadata": {},
     "output_type": "execute_result"
    }
   ],
   "source": [
    "#menampilkan 5 data teratas\n",
    "dataset.head(5)"
   ]
  },
  {
   "cell_type": "code",
   "execution_count": 46,
   "metadata": {
    "scrolled": false
   },
   "outputs": [
    {
     "data": {
      "image/png": "[encoded data removed]",
      "text/plain": [
       "<Figure size 432x288 with 1 Axes>"
      ]
     },
     "metadata": {},
     "output_type": "display_data"
    },
    {
     "name": "stdout",
     "output_type": "stream",
     "text": [
      "0    20921\n",
      "1      383\n",
      "Name: label, dtype: int64\n"
     ]
    }
   ],
   "source": [
    "#visualisasi antar jumlah data\n",
    "labels = 'Non Hatespeech (0)', 'Hatespeech(1)'\n",
    "sizes = dataset['label'].value_counts()\n",
    "explode = (0.1, 0)  # only \"explode\" the 2nd slice (i.e. 'Hogs')\n",
    "colors = ['#D3D3D3','#f08080']\n",
    "\n",
    "fig1, ax1 = plt.subplots()\n",
    "ax1.pie(sizes, explode=explode, colors=colors, labels=labels, autopct='%.2f%%',\n",
    "        shadow=False, startangle=0)\n",
    "ax1.axis('equal')  # Equal aspect ratio ensures that pie is drawn as a circle.\n",
    "\n",
    "plt.show()\n",
    "#melihat jumlah data untuk masing2 label\n",
    "print(dataset['label'].value_counts())"
   ]
  },
  {
   "cell_type": "code",
   "execution_count": 5,
   "metadata": {
    "scrolled": false
   },
   "outputs": [
    {
     "name": "stdout",
     "output_type": "stream",
     "text": [
      "(21304,) (21304,)\n"
     ]
    }
   ],
   "source": [
    "#'split' data menggunakan K-Fold\n",
    "skf = StratifiedKFold(n_splits=5)\n",
    "skf.get_n_splits(dataset['tweet_text'], dataset['label'])\n",
    "\n",
    "StratifiedKFold(n_splits=5, random_state=None, shuffle=False)\n",
    "X=dataset['tweet_text']\n",
    "y= dataset['label']\n",
    "print(X.shape,y.shape)"
   ]
  },
  {
   "cell_type": "code",
   "execution_count": 6,
   "metadata": {
    "scrolled": false
   },
   "outputs": [
    {
     "name": "stdout",
     "output_type": "stream",
     "text": [
      "TRAIN: [ 1839  1846  1857 ... 21301 21302 21303] TEST: [   0    1    2 ... 4336 4337 4338]\n",
      "TRAIN: [    0     1     2 ... 21301 21302 21303] TEST: [1839 1846 1857 ... 8605 8606 8607]\n",
      "TRAIN: [    0     1     2 ... 21301 21302 21303] TEST: [ 4348  4359  4424 ... 12833 12834 12835]\n",
      "TRAIN: [    0     1     2 ... 21301 21302 21303] TEST: [ 7980  8118  8260 ... 17062 17063 17064]\n",
      "TRAIN: [    0     1     2 ... 17062 17063 17064] TEST: [15242 15279 15411 ... 21301 21302 21303]\n",
      "(17044,) (17044,)\n",
      "(4260,) (4260,)\n"
     ]
    }
   ],
   "source": [
    "##### menggunakan kfold untuk menyeimbangkan split\n",
    "for train_index, test_index in skf.split(X,y):\n",
    "    print(\"TRAIN:\", train_index, \"TEST:\", test_index)\n",
    "    X_train, X_test = X[train_index], X[test_index]\n",
    "    y_train, y_test = y[train_index], y[test_index]\n",
    "\n",
    "#menampilkan jumlah data train-test\n",
    "print(X_train.shape,y_train.shape)   \n",
    "print(X_test.shape,y_test.shape)"
   ]
  },
  {
   "cell_type": "code",
   "execution_count": 7,
   "metadata": {
    "scrolled": false
   },
   "outputs": [
    {
     "data": {
      "text/plain": [
       "0        antusiasme masyarakat akan hadirnya pemimpin m...\n",
       "1                                            yo gas lagii \n",
       "2        hanya kekuatan iman yang mampu mengumpulkan um...\n",
       "3        hal itu terulang di pilpres 2019 inibahkan msh...\n",
       "4                                    orang gila masuk dpt \n",
       "5                                            lanjutkannnn \n",
       "6        sejuta lebih rakyat indonesia tumpah memadati ...\n",
       "7        rp 46 m termasuk duit israel ditemukan kpk dar...\n",
       "8                        indonesia adil makmur bersama 02 \n",
       "9              beda adab beda pikiran beda mental beda iq \n",
       "10       suasana gbk dr sebelum subuh sampai siang hari...\n",
       "11                          kebersihan sebagian dari iman \n",
       "12       alumni 212 berhak tentukan dukungan politik ke...\n",
       "13        zikir bergema di kampanye akbar prabowosandiaga \n",
       "14       gus irfan bela sandi bendera saja protes nu ja...\n",
       "15       belajar matematika duluhitung terussss1 2 3 ri...\n",
       "16       indonesia menangindonesia adil makmurindonesia...\n",
       "17        kacang lupa sama kulitnya ingat tak ada yg abadi\n",
       "18       cadaaas mas brooow perubahan di depan mata jan...\n",
       "19       jdlah pemimpin yg amanah pak semakin bapak men...\n",
       "20       bener yuk negeri ini akan berubah bila 02 mena...\n",
       "21                             semoga ini jadi tanda allah\n",
       "22                                ora ngapak ora ke penak \n",
       "23       kata hati tidak bisa berbohong kata jurkam kit...\n",
       "24                                  semoga aman dan damai \n",
       "25                                    milih yai pun ogahh \n",
       "26                       insya allah salam 02 jari di gbk \n",
       "27       dia lupa luas gbk brp semua full sampai slipi ...\n",
       "28       berdebar debar panik ketakutan melihat rakyat ...\n",
       "29       terima kasih yg sudah follow insyaallah di fol...\n",
       "                               ...                        \n",
       "17034    pernyataan mardani ali sera ketua dpp pks hara...\n",
       "17035    pernyataan mardani ali sera ketua dpp pks hara...\n",
       "17036    30 provinsi sudah direkap prabowosandi menang ...\n",
       "17037    din syamsuddin hak konstitusional saya dukung ...\n",
       "17038                                politik pasca jokowi \n",
       "17039           babe haikal gampang kok siapa yang curang \n",
       "17040     polisi panggil direktur satgas bpn prabowosandi \n",
       "17041    pengumuman pemilu 2019 anies lewat dinkes siap...\n",
       "17042    ini respons bpn atas penolakan bawaslu terhada...\n",
       "17043     polisi borgol tangan jurkamnas bpn prabowosandi \n",
       "17044         pembangunan rumah untuk zohri telah selesai \n",
       "17045    laporan bpn terkait keterlibatan asn ditolak b...\n",
       "17046    30 provinsi sudah direkap prabowosandi menang ...\n",
       "17047       bawaslu tolak laporan bpn soal kecurangan tsm \n",
       "17048    aktivis tionghoa lieus sungkharisma ditangkap ...\n",
       "17049    tensi politik naik kh abdullah muchith ajak ki...\n",
       "17050    hari ini amien rais diperiksa terkait kasus ma...\n",
       "17051        hanura menduga wiranto ingin jatuhkan jokowi \n",
       "17052    ditangkap polisi lieus sungkharisma saya diang...\n",
       "17053    dibawa ke polda metro tangan lieus sungkharism...\n",
       "17054    bupati garut ancam pecat pns yang ikut aksi 22...\n",
       "17055    alasan bawaslu tolak laporan bpn soal kecurangan \n",
       "17056    hendropriyono yakin prabowo cs bakal kabur ke ...\n",
       "17057    menkeu terbaik pun lesu ekonomi indonesia meng...\n",
       "17058        pemilu curang dan rapuhnya rezim kleptokrasi \n",
       "17059    sandiaga tegaskan aksi 22 mei dijamin undangun...\n",
       "17061                                       buang yg gagal\n",
       "17062    laporan bpn terkait keterlibatan asn ditolak b...\n",
       "17063    30 provinsi sudah direkap prabowosandi menang ...\n",
       "17064    demokrat awalnya 1 meloloskan ahy jadi cawapre...\n",
       "Name: tweet_text, Length: 17044, dtype: object"
      ]
     },
     "execution_count": 7,
     "metadata": {},
     "output_type": "execute_result"
    }
   ],
   "source": [
    "X_train"
   ]
  },
  {
   "cell_type": "code",
   "execution_count": 8,
   "metadata": {
    "scrolled": false
   },
   "outputs": [
    {
     "name": "stdout",
     "output_type": "stream",
     "text": [
      "(17044, 25509) (4260, 25509)\n"
     ]
    }
   ],
   "source": [
    "# create a count vectorizer object \n",
    "count_vect = CountVectorizer(analyzer='word', token_pattern=r'\\w{1,}')\n",
    "count_vect.fit(X)\n",
    "\n",
    "# transform the training and validation data using count vectorizer object\n",
    "xtrain_count =  count_vect.transform(X_train.values.astype('U'))\n",
    "xvalid_count =  count_vect.transform(X_test.values.astype('U'))\n",
    "print(xtrain_count.shape,xvalid_count.shape)"
   ]
  },
  {
   "cell_type": "code",
   "execution_count": 9,
   "metadata": {
    "scrolled": false
   },
   "outputs": [],
   "source": [
    "#Fungsi feature extraction\n",
    "def average_word_vectors(words, model, vocabulary, num_features):\n",
    "    feature_vector = np.zeros((num_features,),dtype=\"float64\")\n",
    "    nwords = 0.\n",
    "    \n",
    "    for word in words:\n",
    "        if word in vocabulary:\n",
    "            nwords = nwords+1.\n",
    "            feature_vector = np.add(feature_vector, model[word])\n",
    "            \n",
    "        if nwords:\n",
    "            feature_vectore = np.divide(feature_vector, nwords)\n",
    "        return feature_vector\n",
    "    \n",
    "def averaged_word_vectorizer(corpus, model, num_features):\n",
    "    vocabulary = set(model.wv.index2word)\n",
    "    features = [average_word_vectors(tokenized_sentence, model, vocabulary, num_features)\n",
    "               for tokenized_sentence in corpus]\n",
    "    return np.array(features)\n",
    "\n",
    "def tfidf_wtd_avg_word_vectors(words, tfidf_vector, tfidf_vocabulary, model, num_features):\n",
    "    word_tfidfs = [tfidf_vector[0, tfidf_vocabulary.get(word)]\n",
    "                  if tfidf_vocabulary.get(word)\n",
    "                  else 0 for word in words]\n",
    "    word_tfidf_map = {word:tfidf_val for word, tfidf_val in zip(words, word_tfidfs)}\n",
    "    feature_vector = np.zeros((num_features,),dtype=\"float64\")\n",
    "    vocabulary = set(model.wv.index2word)\n",
    "    wts = 0.\n",
    "    for word in words:\n",
    "        if word in vocabulary:\n",
    "            word_vector = model[word]\n",
    "            weighted_word_vector = word_tfidf_map[word] * word_vector\n",
    "            wts = wts + word_tfidf_map[word]\n",
    "            feature_vector = np.add(feature_vector, weighted_word_vector)\n",
    "    \n",
    "    if wts:\n",
    "        feature_vector = np.divide(feature_vector, wts)\n",
    "        \n",
    "    return feature_vector\n",
    "\n",
    "def tfidf_weighted_averaged_word_vectorizer(corpus, tfidf_vectors,\n",
    "                                          tfidf_vocabulary, model, num_features):\n",
    "    docs_tfidfs = [(doc, doc_tfidf)\n",
    "                  for doc, doc_tfidf\n",
    "                  in zip(corpus, tfidf_vectors)]\n",
    "    features = [tfidf_wtd_avg_word_vectors(tokenized_sentence, tfidf, tfidf_vocabulary,\n",
    "                                          model, num_features)\n",
    "               for tokenized_sentence, tfidf in docs_tfidfs]\n",
    "    \n",
    "    return np.array(features)"
   ]
  },
  {
   "cell_type": "code",
   "execution_count": 10,
   "metadata": {
    "scrolled": false
   },
   "outputs": [],
   "source": [
    "#pemanggilan Feature extraction\n",
    "# word level tf-idf\n",
    "tfidf_vect = TfidfVectorizer(analyzer='word', token_pattern=r'\\w{1,}', max_features=5000)\n",
    "tfidf_vect.fit_transform(X)\n",
    "xtrain_tfidf =  tfidf_vect.transform(X_train)\n",
    "xvalid_tfidf =  tfidf_vect.transform(X_test)\n",
    "\n",
    "# ngram level tf-idf \n",
    "tfidf_vect_ngram = TfidfVectorizer(analyzer='word', token_pattern=r'\\w{1,}', ngram_range=(2,3), max_features=5000)\n",
    "tfidf_vect_ngram.fit(dataset['tweet_text'])\n",
    "xtrain_tfidf_ngram =  tfidf_vect_ngram.transform(X_train)\n",
    "xvalid_tfidf_ngram =  tfidf_vect_ngram.transform(X_test)\n",
    "\n",
    "# characters level tf-idf\n",
    "tfidf_vect_ngram_chars = TfidfVectorizer(analyzer='char', token_pattern=r'\\w{1,}', ngram_range=(2,3), max_features=5000)\n",
    "tfidf_vect_ngram_chars.fit(dataset['tweet_text'])\n",
    "xtrain_tfidf_ngram_chars =  tfidf_vect_ngram_chars.transform(X_train) \n",
    "xvalid_tfidf_ngram_chars =  tfidf_vect_ngram_chars.transform(X_test)"
   ]
  },
  {
   "cell_type": "code",
   "execution_count": 11,
   "metadata": {
    "scrolled": false
   },
   "outputs": [
    {
     "name": "stdout",
     "output_type": "stream",
     "text": [
      "(17044, 5000)\n",
      "(4260, 5000)\n",
      "(17044, 5000)\n",
      "(17044, 5000)\n",
      "  (0, 4941)\t0.07962402100908472\n",
      "  (0, 4935)\t0.0514779831180622\n",
      "  (0, 4887)\t0.04168102167719437\n",
      "  (0, 4871)\t0.1338646347433124\n",
      "  (0, 4870)\t0.12747801227492836\n",
      "  (0, 4690)\t0.07785964340893234\n",
      "  (0, 4682)\t0.033724507745388675\n",
      "  (0, 4632)\t0.05405588043886362\n",
      "  (0, 4623)\t0.03276259313433674\n",
      "  (0, 4615)\t0.05090080210113957\n",
      "  (0, 4599)\t0.10594950825958582\n",
      "  (0, 4586)\t0.06929681642135925\n",
      "  (0, 4484)\t0.048903831924874734\n",
      "  (0, 4477)\t0.047865578451695937\n",
      "  (0, 4474)\t0.047835604062276806\n",
      "  (0, 4469)\t0.07330533940190327\n",
      "  (0, 4398)\t0.053924538581838516\n",
      "  (0, 4395)\t0.050198644238195214\n",
      "  (0, 4335)\t0.035017767009319065\n",
      "  (0, 4323)\t0.02873277181895694\n",
      "  (0, 4311)\t0.05487887320846382\n",
      "  (0, 4291)\t0.021973347973176596\n",
      "  (0, 4277)\t0.04680782612158591\n",
      "  (0, 4256)\t0.02392030603736265\n",
      "  (0, 4117)\t0.07350146317207373\n",
      "  :\t:\n",
      "  (4259, 856)\t0.0765989942999004\n",
      "  (4259, 854)\t0.05184825406984075\n",
      "  (4259, 801)\t0.11329972967634509\n",
      "  (4259, 791)\t0.07137568107269567\n",
      "  (4259, 770)\t0.08465306608901922\n",
      "  (4259, 768)\t0.10785707116167761\n",
      "  (4259, 767)\t0.13886761460493066\n",
      "  (4259, 746)\t0.13624006896480753\n",
      "  (4259, 745)\t0.11376596541704073\n",
      "  (4259, 681)\t0.13088464950587017\n",
      "  (4259, 650)\t0.03561049789015804\n",
      "  (4259, 367)\t0.0966056466920486\n",
      "  (4259, 366)\t0.08842228428486806\n",
      "  (4259, 329)\t0.09435591827005375\n",
      "  (4259, 322)\t0.05117239088972333\n",
      "  (4259, 309)\t0.09041716411464817\n",
      "  (4259, 302)\t0.04374414412197742\n",
      "  (4259, 286)\t0.10159967493922872\n",
      "  (4259, 276)\t0.04493238096364183\n",
      "  (4259, 250)\t0.09915098368003544\n",
      "  (4259, 248)\t0.06523537489735469\n",
      "  (4259, 150)\t0.11176142293837873\n",
      "  (4259, 146)\t0.06620110137403987\n",
      "  (4259, 134)\t0.1802942877229008\n",
      "  (4259, 120)\t0.09781723410756786\n"
     ]
    }
   ],
   "source": [
    "print(xtrain_tfidf_ngram.shape)\n",
    "print(xvalid_tfidf_ngram.shape)\n",
    "print(xtrain_tfidf_ngram_chars.shape)\n",
    "print(xtrain_tfidf_ngram_chars.shape)\n",
    "print(xvalid_tfidf_ngram_chars)"
   ]
  },
  {
   "cell_type": "code",
   "execution_count": 12,
   "metadata": {
    "scrolled": false
   },
   "outputs": [],
   "source": [
    "#feature extraction: Word2Vec\n",
    "num_features = 500    # Word vector dimensionality                      \n",
    "min_word_count = 40   # Minimum word count                        \n",
    "num_workers = 3       # Number of threads to run in parallel\n",
    "context = 10          # Context window size\n",
    "downsampling = 1e-3   # Downsample setting for frequent words"
   ]
  },
  {
   "cell_type": "code",
   "execution_count": 13,
   "metadata": {
    "scrolled": false
   },
   "outputs": [
    {
     "data": {
      "text/plain": [
       "0    antusiasme masyarakat akan hadirnya pemimpin m...\n",
       "1                                        yo gas lagii \n",
       "2    hanya kekuatan iman yang mampu mengumpulkan um...\n",
       "3    hal itu terulang di pilpres 2019 inibahkan msh...\n",
       "4                                orang gila masuk dpt \n",
       "5                                        lanjutkannnn \n",
       "6    sejuta lebih rakyat indonesia tumpah memadati ...\n",
       "7    rp 46  termasuk duit israel ditemukan kpk dari...\n",
       "8                    indonesia adil makmur bersama 02 \n",
       "9          beda adab beda pikiran beda mental beda iq \n",
       "Name: tweet_text, dtype: object"
      ]
     },
     "execution_count": 13,
     "metadata": {},
     "output_type": "execute_result"
    }
   ],
   "source": [
    "#pertama: menghapus stop words\n",
    "stop_re = '\\\\b'+'\\\\b|\\\\b'.join(nltk.corpus.stopwords.words('english'))+'\\\\b'\n",
    "dataw2v = dataset['tweet_text'].str.replace(stop_re, '')\n",
    "dataw2v.head(10)"
   ]
  },
  {
   "cell_type": "code",
   "execution_count": 14,
   "metadata": {
    "scrolled": false
   },
   "outputs": [
    {
     "data": {
      "text/plain": [
       "0    [antusiasme, masyarakat, akan, hadirnya, pemim...\n",
       "1                                     [yo, gas, lagii]\n",
       "2    [hanya, kekuatan, iman, yang, mampu, mengumpul...\n",
       "3    [hal, itu, terulang, di, pilpres, 2019, inibah...\n",
       "4                            [orang, gila, masuk, dpt]\n",
       "5                                       [lanjutkannnn]\n",
       "6    [sejuta, lebih, rakyat, indonesia, tumpah, mem...\n",
       "7    [rp, 46, termasuk, duit, israel, ditemukan, kp...\n",
       "8               [indonesia, adil, makmur, bersama, 02]\n",
       "9    [beda, adab, beda, pikiran, beda, mental, beda...\n",
       "Name: tweet_text, dtype: object"
      ]
     },
     "execution_count": 14,
     "metadata": {},
     "output_type": "execute_result"
    }
   ],
   "source": [
    "#kedua: pisahkan antar setiap kata\n",
    "dataw2v = dataw2v.str.split()\n",
    "\n",
    "dataw2v.head(10)"
   ]
  },
  {
   "cell_type": "code",
   "execution_count": 15,
   "metadata": {
    "scrolled": false
   },
   "outputs": [],
   "source": [
    "# Detect common phrases so that we may treat each one as its own word\n",
    "phrases = gensim.models.phrases.Phrases(dataw2v.tolist())\n",
    "phraser = gensim.models.phrases.Phraser(phrases)\n",
    "dataw2v = phraser[dataw2v.tolist()]"
   ]
  },
  {
   "cell_type": "code",
   "execution_count": 16,
   "metadata": {
    "scrolled": false
   },
   "outputs": [
    {
     "data": {
      "text/plain": [
       "(776, 500)"
      ]
     },
     "execution_count": 16,
     "metadata": {},
     "output_type": "execute_result"
    }
   ],
   "source": [
    "#feature extraction: Word2Vec\n",
    "modelvalid = gensim.models.word2vec.Word2Vec(sentences=dataw2v,workers=32,size=500,\n",
    "                              window=100,\n",
    "                             min_count=30,\n",
    "                              sample=1e-3)\n",
    "#menampilkan shape dari modelvalid\n",
    "modelvalid.wv.vectors.shape"
   ]
  },
  {
   "cell_type": "code",
   "execution_count": 17,
   "metadata": {
    "scrolled": false
   },
   "outputs": [
    {
     "name": "stdout",
     "output_type": "stream",
     "text": [
      "['yg', 'dan', 'di', 'yang', 'ini', 'kita', 'ada', 'itu', 'untuk', 'rakyat', 'bisa', 'dari', 'ya', 'saya', 'akan', 'lagi', 'indonesia', 'prabowo', 'pak', 'mau', 'dengan', 'sudah', 'aja', 'kami', 'gak', 'siap', 'bang', 'ke', 'tidak', '02', 'jokowi', 'semoga', 'jadi', 'semangat', 'tak', 'gunung', 'bukan', 'nya', 'ga', 'apa', 'semua', 'sama', 'presiden', 'amp', 'juga', 'karena', 'buat', 'mereka', 'menang', 'allah', 'orang', 'tagar', 'tapi', 'jangan', 'utk', 'kampanye', 'prabowo_sandi', 'kalau', 'harus', 'udah', 'kalo', 'banyak', 'gbk', 'masih', 'hanya', 'insya_allah', 'tetap', '2019', 'cebong', '17_april', 'adalah', 'pada', 'terus', 'sampai', 'pasti', 'di_gbk', 'dalam', 'akal_sehat', 'negara', 'mantap', 'kpu', 'bangsa', 'aku', 'ayo', 'baru', 'ikut', 'pilih', 'saja', 'dgn', 'perubahan', 'kok', 'hati', 'makmur', 'nih', 'setuju', 'sdh', 'bersama', 'prabowosandi', 'kemenangan', 'lebih', 'insyaallah', 'kan', 'aamiin', 'biar', 'lah', 'kalian', 'dia', 'cuma', 'doa', 'si', 'massa', 'atau', 'gw', 'kampanye_akbar', 'selalu', 'jakarta', 'alhamdulillah', 'dr', 'mana', 'bikin', 'oleh', 'besok', '01', 'rezim', 'jika', 'allahu_akbar', 'dah', 'tanpa', 'klo', 'sekarang', 'menjadi', 'punya', 'polisi', 'ganti', 'satu', 'ingin', 'nanti', 'mah', '2', 'sehat', 'perjuangan', 'para', 'hari', 'bapak', 'akun', 'hadir', 'dg', 'salam', 'banget', 'demi', 'atas', 'pake', 'suara', 'tau', 'video', 'dulu', 'saatnya', 'berjuang', 'untuk_indonesia', 'adil_dan', 'memang', 'bawaslu', 'tdk', 'lebih_baik', 'tp', 'dungu', 'jalan', 'dong', 'belum', 'pemimpin', 'lg', 'sendiri', 'datang', 'pemilu', 'siapa', 'om', '1', 'jgn', 'malah', 'besar', 'masyarakat', 'indonesia_adil', 'jelas', 'kembali', 'sandi', 'yakin', 'akbar', 'saat', 'anda', 'paling', 'seperti', 'makin', 'sy', 'bagi', 'agar', 'gue', 'takut', 'bpn', 'lain', 'semakin', 'janji', 'kalah', 'lihat', 'acara', 'sangat', 'pendukung', 'kata', 'jd', 'bro', 'follow', 'suka', 'gk', 'hari_ini', 'pilpres', 'rakyat_indonesia', 'kecurangan', 'anak', 'lambungkan', 'jg', 'mei', '22_mei', 'tuh', 'dunia', 'baik', 'luar_biasa', 'jae', 'emang', 'dukung', 'pun', 'sampe', 'sih', 'sekali', 'ternyata', 'kepada', 'pas', 'mulai', 'people_power', 'krn', 'nggak', 'langsung', 'semoga_allah', 'mungkin', 'mantul', 'liat', 'pengen', 'keren', 'kamu', 'bismillah', 'salah', 'warga', 'kpk', 'hoax', 'pernah', 'hukum', 'ya_allah', 'soal', 'follback', 'yuk', 'ku', 'sabar', 'org', 'kenapa', 'negeri', 'maka', 'ikhlas', 'setelah', 'bilang', 'adil_makmur', 'bakal', 'indonesia_menang', 'masuk', 'mata', 'melihat', 'naik', 'cara', 'harapan', 'benar', 'makan', 'masa', 'sebagai', 'kali', 'kerja', 'mari', 'panik', 'politik', 'yg_penting', 'cukup', 'curang', 'wajib', 'uang', 'dlm', 'apalagi', 'pilihan', 'dapat', 'deh', 'lama', 'solo', 'pks', 'menuju', 'ganti_presiden', 'ketulusan_cinta', 'begitu', 'tinggal', 'terjadi', 'akun_receh', 'gitu', 'ulama', 'minta', 'mas', 'saling', 'selamat', 'memilih', 'tukang', 'demokrasi', 'g', 'segera', 'perlu', 'bs', 'pak_prabowo', 'diri', 'tetep', 'waktu', 'cerdas', 'april', 'islam', 'tujuan', 'ketika', 'sejarah', 'masya_allah', 'penting', 'hasil', 'jangan_lupa', 'pemerintah', 'pakai', 'jadi_presiden', 'kau', 'tahu', 'sebelah', 'beliau', 'coba', 'luar', 'bener', 'hidup', 'allahuakbar', 'makanya', 'lu', 'ah', 'lupa', 'mendukung', 'akal', 'otak', 'boleh', 'folbek', 'presiden_baru', 'apapun', 'putih', 'korupsi', 'hingga', 'tetap_semangat', 'tahun', 'alloh', 'butuh', 'ciamis', 'apakah', 'fokus', 'tidak_ada', 'penuh', 'pd', 'betul', 'ekonomi', 'n', 'biasa', 'aksi', 'amin', 'cari', '\\x8b?\\x8f', 'tni', 'sukses', 'udh', 'kurang', 'kang', 'sedang', 'masyaallah', 'duit', 'allah_swt', 'mak', 'tambah', 'rumah', 'partai', 'ke_gbk', 'nkri', 'lawan', 'wa', 'tidak_bisa', 'secara', 'merinding', 'jauh', 'kasih', 'subhanallah', 'bogor', 'kekuatan', 'amplop', 'kuat', 'sakit', 'ri', 'telah', 'hrs', 'yaa', 'ngga', 'daerah', 'ditangkap', 'mrk', 'beda', 'mari_kita', 'petahana', 'gini', 'sandiaga', 'percaya', 'pokoknya', 'nu', 'saling_follow', 'begini', '2014', 'bergerak', 'makar', 'bong', 'keadilan', 'mu', 'dan_makmur', 'gagal', 'selesai', 'kayak', 'lancar', 'nyata', 'terbaik', 'amanah', 'karna', 'perang', 'capres', 'april_2019', 'relawan', 'wiranto', 'aamiin_ya', 'pokoke', 'iya', 'yang_penting', 'abang', 'walaupun', 'tps', 'sebelum', 'trus', 'foto', '7_april', 'ikutan', 'balik', 'gerakan', 'rasa', 'pilpres_2019', 'asal', 'lanjut', 'lalu', 'aparat', 'dpt', 'ingat', 'mbah', 'gak_ada', '5', 'pendukung_02', 'bu', 'kita_semua', 'bpk', 'insha_allah', 'keluarga', 'saat_ini', 'tv', 'malu', 'penguasa', 'polbek', 'bukti', 'gimana', 'hal', '3', 'agama', 'setiap', 'bohong', 'bawa', '2019gantipresiden', 'niat', 'putihkan_gbk', 'seorang', 'sejak', 'coblos', '7', 'blm', 'eh', 'membuat', '212', 'kartu', 'vs', 'akhirnya', 'tunggu', 'pagi', 'demokrat', 'gas', 'negeri_ini', 'manusia', 'bahwa', 'bahkan', 'mbak', 'hadir_di', 'wis_wayahe', 'masalah', 'militan', 'padahal', 'bantu', 'terima_kasih', 'pejuang', 'yah', 'asli', 'seluruh', 'harga', 'kebenaran', 'rezim_ini', 'katanya', 'berani', 'kaya', 'berjamaah', 'susah', 'menuju_indonesia', 'jkw', 'maaf', 'nama', 'ni', 'milenial', 'alasan', 'aksi_22', 'sbg', 'saudara', 'jutaan', 'jam', 'mohon', 'ibu', 'sang', 'receh', 'membawa', 'jabatan', 'nah', 'berita', 'tempat', 'lakukan', 'polri', 'fahri_hamzah', 'ayolah', 'di_depan', 'jari', 'china', 'fitnah', 'sebut', 'si_jae', 'sm', 'bgt', 'maju', 'jaga', 'koruptor', 'salah_satu', 'bandung', 'pasukan', 'jiwa', 'ngomong', 'dua', 'merdeka', 'turun', 'msh', 'adil', 'aman', 'kubu', 'radikal', 'lapangan', 'terlalu', 'cinta', 'senayan', 'berharap', 'emak2', 'spt', 'teman', 'kecil', 'ane', 'salam_akal', 'tinggi', 'internasional', 'segala', 'sambil', 'kedaulatan_rakyat', 'mampu', 'menangkan', 'paham', 'pilih_02', 'ama', 'nasi_bungkus', 'sebuah', 'semuanya', 'kendor', 'media', 'tuk', 'jujur', 'ok', 'berakal_sehat', 'lagu', 'berarti', 'merah', 'beli', 'buku', 'ora', 'damai', 'kawan', 'bersatu', 'bangga', 'bung', 'pulang', 'listrik', 'berdoa', 'orang2', 'walau', 'umat', 'pki', 'demo', 'data', 'ustadz', 'wong', 'tagarnya', 'diberi', 'untuk_perubahan', 'punya_presiden', 'tolong', 'habis', 'ambil', 'sudah_saatnya', 'rame', 'antara', 'kaum', 'asing', 'pilih_prabowo', 'ketua', 'kebohongan', 'rakyat_ingin', 'kl', 'raja', 'disini', 'hati2', 'saudaraku', 'bayar', 'pemerintahan', 'kek', 'tidak_perlu', 'nunggu', 'inilah', 'mending', 'makassar', 'folback', '11_hari', 'eggi_sudjana', 'siang', 'merasa', 'follower', 'hastag', 'kena', 'kesehatan', 'kota', 'pemimpin_yang', 'melakukan', 'serta', 'terbukti', 'dilakukan', 'supaya', 'swt', 'kopi', 'prof', 'tolak', 'tagar_legendaris', 'ikut_aksi', 'dianggap', 'sini', 'terwujud', 'nasi', 'barisan', 'baca', 'allahu', 'netral', 'pastikan', 'ahy', 'emak', 'caleg', 'sana', 'tangan', 'memberikan', 'tidur', 'terkait', 'mobil', 'terima', 'masa_depan', 'berubah', 'milih', '10', 'persen', 'usah', 'istana', 'air', 'lewat', 'awal', 'masyarakat_indonesia', 'jatim', 'siapapun', 'asn', 'kekuasaan', 'cm', 'lo', 'seperti_ini', 'sholat', 'skrg', 'ngapain', 'muncul', 'amien_rais', 'live', 'revolusi_mental', 'selamat_berjuang', 'cc', 'ungkap', 'teroris', 'massa_aksi', 'menyambut', 'suasana', 'melawan', 'namanya', 'anti', 'doa_kami', '4', 'dimana', 'smoga', 'koq', 'disana', 'kompak', 'gua', 'main', 'cepat', 'pribadi', 'langit', 'insyaa_allah', 'umat_islam', 'tegas', 'tgl_17', 'emakemak', 'putihkan_jakarta', 'selama', 'jadi_tersangka', 'situng_kpu', 'mental', 'bendera', 'bersih', 'bos', 'kembali_ke', 'memberi', 'waras', 'memenangkan', 'hebat', 'menteri', 'coblos_02', 'inshaallah', 'tak_terbendung', 'acaranya', 'keluar', 'loh', 'sesuai', 'disebut', 'bg', 'maling', 'ke_mk']\n"
     ]
    }
   ],
   "source": [
    "#list kata-kata yang ada dalam model word2vec\n",
    "print(modelvalid.wv.index2word)"
   ]
  },
  {
   "cell_type": "code",
   "execution_count": 18,
   "metadata": {
    "scrolled": false
   },
   "outputs": [
    {
     "name": "stdout",
     "output_type": "stream",
     "text": [
      "[('kok', 0.999863862991333), ('udah', 0.9998317956924438), ('apa', 0.9998036623001099), ('nya', 0.999799370765686), ('kalau', 0.9997979402542114), ('ya', 0.9997978806495667), ('ada', 0.9997847676277161), ('itu', 0.9997027516365051), ('gw', 0.9996843934059143), ('sama', 0.9996694326400757)]\n"
     ]
    }
   ],
   "source": [
    "#mencari kata yang berelasi\n",
    "print(modelvalid.wv.most_similar(\"cebong\"))"
   ]
  },
  {
   "cell_type": "code",
   "execution_count": 19,
   "metadata": {
    "scrolled": false
   },
   "outputs": [],
   "source": [
    "#fungsi untuk mengembalikan model word2vec\n",
    "def review_to_wordlist(review, remove_stopwords=False):\n",
    "    \"\"\"\n",
    "    Convert a review to a list of words. Removal of stop words is optional.\n",
    "    \"\"\"\n",
    "    # remove non-letters\n",
    "    review_text = re.sub(\"[^a-zA-Z]\",\" \", review)\n",
    "    \n",
    "    # convert to lower case and split at whitespace\n",
    "    words = review_text.lower().split()\n",
    "    \n",
    "    # remove stop words (false by default)\n",
    "    if remove_stopwords:\n",
    "        stops = set(stopwords.words(\"english\"))\n",
    "        words = [w for w in words if not w in stops]\n",
    "\n",
    "    return words\n",
    "\n",
    "def make_feature_vec(words, modelvalid, num_features):\n",
    "    \"\"\"\n",
    "    Average the word vectors for a set of words\n",
    "    \"\"\"\n",
    "    feature_vec = np.zeros((num_features,),dtype=\"float32\")  # pre-initialize (for speed)\n",
    "    nwords = 0\n",
    "    index2word_set = set(modelvalid.wv.index2word)  # words known to the model\n",
    "\n",
    "    for word in words:\n",
    "        if word in index2word_set: \n",
    "            nwords = nwords + 1\n",
    "            feature_vec = np.add(feature_vec,modelvalid[word])\n",
    "    \n",
    "    feature_vec = np.divide(feature_vec, nwords)\n",
    "    return feature_vec\n",
    "\n",
    "\n",
    "def get_avg_feature_vecs(reviews, modelvalid, num_features):\n",
    "    \"\"\"\n",
    "    Calculate average feature vectors for all reviews\n",
    "    \"\"\"\n",
    "    counter = 0\n",
    "    review_feature_vecs = np.zeros((len(reviews),num_features), dtype='float32')  # pre-initialize (for speed)\n",
    "    \n",
    "    for review in dataset['tweet_text']:\n",
    "        review_feature_vecs[counter] = make_feature_vec(review, modelvalid, num_features)\n",
    "        counter = counter + 1\n",
    "    return review_feature_vecs"
   ]
  },
  {
   "cell_type": "code",
   "execution_count": 20,
   "metadata": {
    "scrolled": false
   },
   "outputs": [
    {
     "name": "stderr",
     "output_type": "stream",
     "text": [
      "/opt/tljh/user/lib/python3.6/site-packages/ipykernel_launcher.py:30: DeprecationWarning: Call to deprecated `__getitem__` (Method will be removed in 4.0.0, use self.wv.__getitem__() instead).\n",
      "/opt/tljh/user/lib/python3.6/site-packages/ipykernel_launcher.py:32: RuntimeWarning: invalid value encountered in true_divide\n"
     ]
    }
   ],
   "source": [
    "# calculate average feature vectors for training and test sets\n",
    "clean_train_reviews = []\n",
    "for review in dataset['tweet_text']:\n",
    "    clean_train_reviews.append(review_to_wordlist(review, remove_stopwords=True))\n",
    "trainDataVecs = get_avg_feature_vecs(clean_train_reviews, modelvalid, num_features)"
   ]
  },
  {
   "cell_type": "code",
   "execution_count": 21,
   "metadata": {
    "scrolled": false
   },
   "outputs": [
    {
     "name": "stdout",
     "output_type": "stream",
     "text": [
      "[[ 0.04120637  0.02040032  0.01612502 ...  0.00954768  0.03606554\n",
      "  -0.06178002]\n",
      " [ 0.03857592  0.02268746  0.01577436 ...  0.00456171  0.03295789\n",
      "  -0.06546982]\n",
      " [ 0.04057505  0.02094923  0.01604086 ...  0.00835104  0.0353197\n",
      "  -0.06266557]\n",
      " ...\n",
      " [ 0.04120637  0.02040032  0.01612502 ...  0.00954768  0.03606554\n",
      "  -0.06178002]\n",
      " [ 0.03966754  0.0202688   0.01604362 ...  0.00752518  0.03354398\n",
      "  -0.06089622]\n",
      " [ 0.04032956  0.0211627   0.01600813 ...  0.00788568  0.03502965\n",
      "  -0.06300995]]\n"
     ]
    }
   ],
   "source": [
    "#melihat isi traindatavecs\n",
    "print(trainDataVecs)"
   ]
  },
  {
   "cell_type": "code",
   "execution_count": 22,
   "metadata": {
    "scrolled": false
   },
   "outputs": [],
   "source": [
    "#split model\n",
    "Xtrainw2v, Xtestw2v, y_trainw2v, y_testw2v = train_test_split(trainDataVecs, y,test_size=0.2,random_state=123)"
   ]
  },
  {
   "cell_type": "code",
   "execution_count": 23,
   "metadata": {
    "scrolled": false
   },
   "outputs": [],
   "source": [
    "#mengisi data yang kosong dan menjadikan nilainya absolut\n",
    "Xtrainw2v=np.nan_to_num(Xtrainw2v)\n",
    "Xtestw2v=np.nan_to_num(Xtestw2v)\n",
    "\n",
    "Xtrainw2v=np.absolute(Xtrainw2v)\n",
    "Xtestw2v=np.absolute(Xtestw2v)"
   ]
  },
  {
   "cell_type": "code",
   "execution_count": 24,
   "metadata": {
    "scrolled": false
   },
   "outputs": [],
   "source": [
    "#fungsi prediksi+ploting\n",
    "\n",
    "def plot_confusion_matrix(cm, classes,\n",
    "                          normalize=False,\n",
    "                          title='Confusion matrix',\n",
    "                          cmap=plt.cm.Blues):\n",
    "    if normalize:\n",
    "        cm = cm.astype('float') / cm.sum(axis=1)[:, np.newaxis]\n",
    "        print(\"Normalized confusion matrix\")\n",
    "    else:\n",
    "        print('Confusion matrix, without normalization')\n",
    "    print(cm)\n",
    "    plt.imshow(cm, interpolation='nearest', cmap=cmap)\n",
    "    plt.title(title)\n",
    "    plt.colorbar()\n",
    "    tick_marks = np.arange(len(classes))\n",
    "    plt.xticks(tick_marks, classes, rotation=45)\n",
    "    plt.yticks(tick_marks, classes)\n",
    "\n",
    "    fmt = '.2f' if normalize else 'd'\n",
    "    thresh = cm.max() / 2.\n",
    "    for i, j in itertools.product(range(cm.shape[0]), range(cm.shape[1])):\n",
    "        plt.text(j, i, format(cm[i, j], fmt),\n",
    "                 horizontalalignment=\"center\",\n",
    "                 color=\"white\" if cm[i, j] > thresh else \"black\")\n",
    "\n",
    "    plt.ylabel('True label')\n",
    "    plt.xlabel('Predicted label')\n",
    "    plt.tight_layout()\n",
    "    \n",
    "def get_metrics(true_labels, predicted_labels):\n",
    "    \n",
    "    print('Accuracy:', np.round(\n",
    "                        metrics.accuracy_score(true_labels,\n",
    "                                              predicted_labels),\n",
    "                        2))\n",
    "    print('Precision:', np.round(\n",
    "                        metrics.precision_score(true_labels,\n",
    "                                              predicted_labels,\n",
    "                                               average='weighted'),\n",
    "                        2))\n",
    "    print('Recall:', np.round(\n",
    "                        metrics.recall_score(true_labels,\n",
    "                                              predicted_labels,\n",
    "                                               average='weighted'),\n",
    "                        2))\n",
    "    print('F1 Score:', np.round(\n",
    "                        metrics.f1_score(true_labels,\n",
    "                                              predicted_labels,\n",
    "                                               average='weighted'),\n",
    "                        2))\n",
    "    print('CR:', metrics.classification_report(true_labels,\n",
    "                                                predicted_labels))\n",
    "    \n",
    "def train_predict_evaluate_model (classifier, \n",
    "                                 train_features, \n",
    "                                 train_labels,\n",
    "                                test_features, \n",
    "                                 test_labels):\n",
    "    classifier.fit(train_features, train_labels)\n",
    "    predictions = classifier.predict(test_features)\n",
    "    get_metrics(true_labels = test_labels,\n",
    "               predicted_labels=predictions)\n",
    "     # Plot non-normalized confusion matrix\n",
    "    cnf_matrix = metrics.confusion_matrix(test_labels,predictions)\n",
    "    plt.figure()\n",
    "    class_names = ['Non Hatespeech', 'Hatespeech']\n",
    "    plot_confusion_matrix(cnf_matrix, classes=class_names,title='Confusion matrix, without normalization')\n",
    "    plt.show()\n",
    "    return predictions\n"
   ]
  },
  {
   "cell_type": "code",
   "execution_count": 37,
   "metadata": {
    "scrolled": false
   },
   "outputs": [
    {
     "name": "stdout",
     "output_type": "stream",
     "text": [
      "MNB N-Gram TF-IDF\n",
      "Accuracy: 0.98\n",
      "Precision: 0.96\n",
      "Recall: 0.98\n",
      "F1 Score: 0.97\n",
      "CR:               precision    recall  f1-score   support\n",
      "\n",
      "           0       0.98      1.00      0.99      4184\n",
      "           1       0.00      0.00      0.00        76\n",
      "\n",
      "    accuracy                           0.98      4260\n",
      "   macro avg       0.49      0.50      0.50      4260\n",
      "weighted avg       0.96      0.98      0.97      4260\n",
      "\n",
      "Confusion matrix, without normalization\n",
      "[[4184    0]\n",
      " [  76    0]]\n"
     ]
    },
    {
     "name": "stderr",
     "output_type": "stream",
     "text": [
      "/opt/tljh/user/lib/python3.6/site-packages/sklearn/metrics/classification.py:1437: UndefinedMetricWarning: Precision is ill-defined and being set to 0.0 in labels with no predicted samples.\n",
      "  'precision', 'predicted', average, warn_for)\n",
      "/opt/tljh/user/lib/python3.6/site-packages/sklearn/metrics/classification.py:1437: UndefinedMetricWarning: F-score is ill-defined and being set to 0.0 in labels with no predicted samples.\n",
      "  'precision', 'predicted', average, warn_for)\n",
      "/opt/tljh/user/lib/python3.6/site-packages/sklearn/metrics/classification.py:1437: UndefinedMetricWarning: Precision and F-score are ill-defined and being set to 0.0 in labels with no predicted samples.\n",
      "  'precision', 'predicted', average, warn_for)\n"
     ]
    },
    {
     "data": {
      "image/png": "[encoded data removed]",
      "text/plain": [
       "<Figure size 432x288 with 2 Axes>"
      ]
     },
     "metadata": {
      "needs_background": "light"
     },
     "output_type": "display_data"
    },
    {
     "name": "stdout",
     "output_type": "stream",
     "text": [
      "------------------------------------------\n",
      "MNB N-Gram Word level\n",
      "Accuracy: 0.91\n",
      "Precision: 0.96\n",
      "Recall: 0.91\n",
      "F1 Score: 0.94\n",
      "CR:               precision    recall  f1-score   support\n",
      "\n",
      "           0       0.98      0.93      0.95      4184\n",
      "           1       0.00      0.00      0.00        76\n",
      "\n",
      "    accuracy                           0.91      4260\n",
      "   macro avg       0.49      0.46      0.48      4260\n",
      "weighted avg       0.96      0.91      0.94      4260\n",
      "\n",
      "Confusion matrix, without normalization\n",
      "[[3885  299]\n",
      " [  76    0]]\n"
     ]
    },
    {
     "data": {
      "image/png": "[encoded data removed]",
      "text/plain": [
       "<Figure size 432x288 with 2 Axes>"
      ]
     },
     "metadata": {
      "needs_background": "light"
     },
     "output_type": "display_data"
    },
    {
     "name": "stdout",
     "output_type": "stream",
     "text": [
      "------------------------------------------\n",
      "MNB N-Gram Char Level\n",
      "Accuracy: 0.98\n",
      "Precision: 0.96\n",
      "Recall: 0.98\n",
      "F1 Score: 0.97\n",
      "CR:               precision    recall  f1-score   support\n",
      "\n",
      "           0       0.98      1.00      0.99      4184\n",
      "           1       0.00      0.00      0.00        76\n",
      "\n",
      "    accuracy                           0.98      4260\n",
      "   macro avg       0.49      0.50      0.50      4260\n",
      "weighted avg       0.96      0.98      0.97      4260\n",
      "\n",
      "Confusion matrix, without normalization\n",
      "[[4178    6]\n",
      " [  76    0]]\n"
     ]
    },
    {
     "data": {
      "image/png": "[encoded data removed]",
      "text/plain": [
       "<Figure size 432x288 with 2 Axes>"
      ]
     },
     "metadata": {
      "needs_background": "light"
     },
     "output_type": "display_data"
    },
    {
     "name": "stdout",
     "output_type": "stream",
     "text": [
      "------------------------------------------\n",
      "MNB W2V\n",
      "Accuracy: 0.98\n",
      "Precision: 0.96\n",
      "Recall: 0.98\n",
      "F1 Score: 0.97\n",
      "CR:               precision    recall  f1-score   support\n",
      "\n",
      "           0       0.98      1.00      0.99      4174\n",
      "           1       0.00      0.00      0.00        87\n",
      "\n",
      "    accuracy                           0.98      4261\n",
      "   macro avg       0.49      0.50      0.49      4261\n",
      "weighted avg       0.96      0.98      0.97      4261\n",
      "\n",
      "Confusion matrix, without normalization\n",
      "[[4174    0]\n",
      " [  87    0]]\n"
     ]
    },
    {
     "name": "stderr",
     "output_type": "stream",
     "text": [
      "/opt/tljh/user/lib/python3.6/site-packages/sklearn/metrics/classification.py:1437: UndefinedMetricWarning: Precision is ill-defined and being set to 0.0 in labels with no predicted samples.\n",
      "  'precision', 'predicted', average, warn_for)\n",
      "/opt/tljh/user/lib/python3.6/site-packages/sklearn/metrics/classification.py:1437: UndefinedMetricWarning: F-score is ill-defined and being set to 0.0 in labels with no predicted samples.\n",
      "  'precision', 'predicted', average, warn_for)\n",
      "/opt/tljh/user/lib/python3.6/site-packages/sklearn/metrics/classification.py:1437: UndefinedMetricWarning: Precision and F-score are ill-defined and being set to 0.0 in labels with no predicted samples.\n",
      "  'precision', 'predicted', average, warn_for)\n"
     ]
    },
    {
     "data": {
      "image/png": "[encoded data removed]",
      "text/plain": [
       "<Figure size 432x288 with 2 Axes>"
      ]
     },
     "metadata": {
      "needs_background": "light"
     },
     "output_type": "display_data"
    },
    {
     "name": "stdout",
     "output_type": "stream",
     "text": [
      "------------------------------------------\n"
     ]
    }
   ],
   "source": [
    "#prediksi NAIVE BAYES\n",
    "mnb = naive_bayes.MultinomialNB()\n",
    "\n",
    "print('MNB N-Gram TF-IDF')\n",
    "mnb_bow_predictions = train_predict_evaluate_model(classifier=mnb,\n",
    "                                                  train_features=xtrain_tfidf,\n",
    "                                                  train_labels=y_train,\n",
    "                                                  test_features=xvalid_tfidf,\n",
    "                                                  test_labels=y_test)\n",
    "print('------------------------------------------')\n",
    "\n",
    "print('MNB N-Gram Word level')\n",
    "mnb_bow_predictions = train_predict_evaluate_model(classifier=mnb,\n",
    "                                                  train_features=xtrain_tfidf_ngram,\n",
    "                                                  train_labels=y_train,\n",
    "                                                  test_features=xvalid_tfidf_ngram,\n",
    "                                                  test_labels=y_test)\n",
    "print('------------------------------------------')\n",
    "\n",
    "print('MNB N-Gram Char Level')\n",
    "mnb_bow_predictions = train_predict_evaluate_model(classifier=mnb,\n",
    "                                                  train_features=xtrain_tfidf_ngram_chars,\n",
    "                                                  train_labels=y_train,\n",
    "                                                  test_features=xvalid_tfidf_ngram_chars,\n",
    "                                                  test_labels=y_test)\n",
    "print('------------------------------------------')\n",
    "\n",
    "print('MNB W2V')\n",
    "mnb_bow_predictions = train_predict_evaluate_model(classifier=mnb,\n",
    "                                                  train_features=Xtrainw2v,\n",
    "                                                  train_labels=y_trainw2v,\n",
    "                                                  test_features=Xtestw2v,\n",
    "                                                  test_labels=y_testw2v)\n",
    "print('------------------------------------------')\n",
    "\n"
   ]
  },
  {
   "cell_type": "code",
   "execution_count": 38,
   "metadata": {
    "scrolled": false
   },
   "outputs": [
    {
     "name": "stdout",
     "output_type": "stream",
     "text": [
      "BNB TFIDF\n",
      "Accuracy: 0.94\n",
      "Precision: 0.97\n",
      "Recall: 0.94\n",
      "F1 Score: 0.95\n",
      "CR:               precision    recall  f1-score   support\n",
      "\n",
      "           0       0.98      0.95      0.97      4184\n",
      "           1       0.06      0.17      0.09        76\n",
      "\n",
      "    accuracy                           0.94      4260\n",
      "   macro avg       0.52      0.56      0.53      4260\n",
      "weighted avg       0.97      0.94      0.95      4260\n",
      "\n",
      "Confusion matrix, without normalization\n",
      "[[3978  206]\n",
      " [  63   13]]\n"
     ]
    },
    {
     "data": {
      "image/png": "[encoded data removed]",
      "text/plain": [
       "<Figure size 432x288 with 2 Axes>"
      ]
     },
     "metadata": {
      "needs_background": "light"
     },
     "output_type": "display_data"
    },
    {
     "name": "stdout",
     "output_type": "stream",
     "text": [
      "------------------------------------------\n",
      "BNB N-Gram Word Level\n",
      "Accuracy: 0.83\n",
      "Precision: 0.96\n",
      "Recall: 0.83\n",
      "F1 Score: 0.89\n",
      "CR:               precision    recall  f1-score   support\n",
      "\n",
      "           0       0.98      0.84      0.91      4184\n",
      "           1       0.01      0.08      0.02        76\n",
      "\n",
      "    accuracy                           0.83      4260\n",
      "   macro avg       0.49      0.46      0.46      4260\n",
      "weighted avg       0.96      0.83      0.89      4260\n",
      "\n",
      "Confusion matrix, without normalization\n",
      "[[3528  656]\n",
      " [  70    6]]\n"
     ]
    },
    {
     "data": {
      "image/png": "[encoded data removed]",
      "text/plain": [
       "<Figure size 432x288 with 2 Axes>"
      ]
     },
     "metadata": {
      "needs_background": "light"
     },
     "output_type": "display_data"
    },
    {
     "name": "stdout",
     "output_type": "stream",
     "text": [
      "------------------------------------------\n",
      "BNB N-Gram Char Level\n",
      "Accuracy: 0.8\n",
      "Precision: 0.97\n",
      "Recall: 0.8\n",
      "F1 Score: 0.88\n",
      "CR:               precision    recall  f1-score   support\n",
      "\n",
      "           0       0.99      0.81      0.89      4184\n",
      "           1       0.04      0.39      0.07        76\n",
      "\n",
      "    accuracy                           0.80      4260\n",
      "   macro avg       0.51      0.60      0.48      4260\n",
      "weighted avg       0.97      0.80      0.88      4260\n",
      "\n",
      "Confusion matrix, without normalization\n",
      "[[3397  787]\n",
      " [  46   30]]\n"
     ]
    },
    {
     "data": {
      "image/png": "[encoded data removed]",
      "text/plain": [
       "<Figure size 432x288 with 2 Axes>"
      ]
     },
     "metadata": {
      "needs_background": "light"
     },
     "output_type": "display_data"
    },
    {
     "name": "stdout",
     "output_type": "stream",
     "text": [
      "------------------------------------------\n",
      "BNB W2V\n",
      "Accuracy: 0.11\n",
      "Precision: 0.98\n",
      "Recall: 0.11\n",
      "F1 Score: 0.17\n",
      "CR:               precision    recall  f1-score   support\n",
      "\n",
      "           0       1.00      0.09      0.17      4174\n",
      "           1       0.02      1.00      0.04        87\n",
      "\n",
      "    accuracy                           0.11      4261\n",
      "   macro avg       0.51      0.55      0.11      4261\n",
      "weighted avg       0.98      0.11      0.17      4261\n",
      "\n",
      "Confusion matrix, without normalization\n",
      "[[ 384 3790]\n",
      " [   0   87]]\n"
     ]
    },
    {
     "data": {
      "image/png": "[encoded data removed]",
      "text/plain": [
       "<Figure size 432x288 with 2 Axes>"
      ]
     },
     "metadata": {
      "needs_background": "light"
     },
     "output_type": "display_data"
    },
    {
     "name": "stdout",
     "output_type": "stream",
     "text": [
      "------------------------------------------\n"
     ]
    }
   ],
   "source": [
    "#prediksi NAIVE BAYES\n",
    "mnb = naive_bayes.BernoulliNB()\n",
    "\n",
    "print('BNB TFIDF')\n",
    "mnb_bow_predictions = train_predict_evaluate_model(classifier=mnb,\n",
    "                                                  train_features=xtrain_tfidf,\n",
    "                                                  train_labels=y_train,\n",
    "                                                  test_features=xvalid_tfidf,\n",
    "                                                  test_labels=y_test)\n",
    "print('------------------------------------------')\n",
    "\n",
    "print('BNB N-Gram Word Level')\n",
    "mnb_bow_predictions = train_predict_evaluate_model(classifier=mnb,\n",
    "                                                  train_features=xtrain_tfidf_ngram,\n",
    "                                                  train_labels=y_train,\n",
    "                                                  test_features=xvalid_tfidf_ngram,\n",
    "                                                  test_labels=y_test)\n",
    "print('------------------------------------------')\n",
    "\n",
    "print('BNB N-Gram Char Level')\n",
    "mnb_bow_predictions = train_predict_evaluate_model(classifier=mnb,\n",
    "                                                  train_features=xtrain_tfidf_ngram_chars,\n",
    "                                                  train_labels=y_train,\n",
    "                                                  test_features=xvalid_tfidf_ngram_chars,\n",
    "                                                  test_labels=y_test)\n",
    "print('------------------------------------------')\n",
    "\n",
    "print('BNB W2V')\n",
    "mnb_bow_predictions = train_predict_evaluate_model(classifier=mnb,\n",
    "                                                  train_features=Xtrainw2v,\n",
    "                                                  train_labels=y_trainw2v,\n",
    "                                                  test_features=Xtestw2v,\n",
    "                                                  test_labels=y_testw2v)\n",
    "print('------------------------------------------')\n"
   ]
  },
  {
   "cell_type": "code",
   "execution_count": null,
   "metadata": {
    "scrolled": true
   },
   "outputs": [],
   "source": []
  },
  {
   "cell_type": "code",
   "execution_count": 34,
   "metadata": {
    "scrolled": false
   },
   "outputs": [
    {
     "name": "stdout",
     "output_type": "stream",
     "text": [
      "Logistic Regression + TF-IDF\n",
      "Accuracy: 0.98\n",
      "Precision: 0.98\n",
      "Recall: 0.98\n",
      "F1 Score: 0.97\n",
      "CR:               precision    recall  f1-score   support\n",
      "\n",
      "           0       0.98      1.00      0.99      4184\n",
      "           1       1.00      0.03      0.05        76\n",
      "\n",
      "    accuracy                           0.98      4260\n",
      "   macro avg       0.99      0.51      0.52      4260\n",
      "weighted avg       0.98      0.98      0.97      4260\n",
      "\n",
      "Confusion matrix, without normalization\n",
      "[[4184    0]\n",
      " [  74    2]]\n"
     ]
    },
    {
     "name": "stderr",
     "output_type": "stream",
     "text": [
      "/opt/tljh/user/lib/python3.6/site-packages/sklearn/linear_model/logistic.py:432: FutureWarning: Default solver will be changed to 'lbfgs' in 0.22. Specify a solver to silence this warning.\n",
      "  FutureWarning)\n"
     ]
    },
    {
     "data": {
      "image/png": "[encoded data removed]",
      "text/plain": [
       "<Figure size 432x288 with 2 Axes>"
      ]
     },
     "metadata": {
      "needs_background": "light"
     },
     "output_type": "display_data"
    },
    {
     "name": "stdout",
     "output_type": "stream",
     "text": [
      "------------------------------------------\n",
      "Logistic Regression + N-Gram word level\n",
      "Accuracy: 0.98\n",
      "Precision: 0.96\n",
      "Recall: 0.98\n",
      "F1 Score: 0.97\n",
      "CR:               precision    recall  f1-score   support\n",
      "\n",
      "           0       0.98      1.00      0.99      4184\n",
      "           1       0.00      0.00      0.00        76\n",
      "\n",
      "    accuracy                           0.98      4260\n",
      "   macro avg       0.49      0.50      0.50      4260\n",
      "weighted avg       0.96      0.98      0.97      4260\n",
      "\n",
      "Confusion matrix, without normalization\n",
      "[[4184    0]\n",
      " [  76    0]]\n"
     ]
    },
    {
     "data": {
      "image/png": "[encoded data removed]",
      "text/plain": [
       "<Figure size 432x288 with 2 Axes>"
      ]
     },
     "metadata": {
      "needs_background": "light"
     },
     "output_type": "display_data"
    },
    {
     "name": "stdout",
     "output_type": "stream",
     "text": [
      "------------------------------------------\n",
      "Logistic Regression + N-Gram Char Level\n",
      "Accuracy: 0.98\n",
      "Precision: 0.98\n",
      "Recall: 0.98\n",
      "F1 Score: 0.98\n",
      "CR:               precision    recall  f1-score   support\n",
      "\n",
      "           0       0.98      1.00      0.99      4184\n",
      "           1       1.00      0.05      0.10        76\n",
      "\n",
      "    accuracy                           0.98      4260\n",
      "   macro avg       0.99      0.53      0.55      4260\n",
      "weighted avg       0.98      0.98      0.98      4260\n",
      "\n",
      "Confusion matrix, without normalization\n",
      "[[4184    0]\n",
      " [  72    4]]\n"
     ]
    },
    {
     "data": {
      "image/png": "[encoded data removed]",
      "text/plain": [
       "<Figure size 432x288 with 2 Axes>"
      ]
     },
     "metadata": {
      "needs_background": "light"
     },
     "output_type": "display_data"
    },
    {
     "name": "stdout",
     "output_type": "stream",
     "text": [
      "------------------------------------------\n",
      "Logistic Regression + W2V\n",
      "Accuracy: 0.98\n",
      "Precision: 0.96\n",
      "Recall: 0.98\n",
      "F1 Score: 0.97\n",
      "CR:               precision    recall  f1-score   support\n",
      "\n",
      "           0       0.98      1.00      0.99      4174\n",
      "           1       0.00      0.00      0.00        87\n",
      "\n",
      "    accuracy                           0.98      4261\n",
      "   macro avg       0.49      0.50      0.49      4261\n",
      "weighted avg       0.96      0.98      0.97      4261\n",
      "\n",
      "Confusion matrix, without normalization\n",
      "[[4174    0]\n",
      " [  87    0]]\n"
     ]
    },
    {
     "name": "stderr",
     "output_type": "stream",
     "text": [
      "/opt/tljh/user/lib/python3.6/site-packages/sklearn/metrics/classification.py:1437: UndefinedMetricWarning: Precision is ill-defined and being set to 0.0 in labels with no predicted samples.\n",
      "  'precision', 'predicted', average, warn_for)\n",
      "/opt/tljh/user/lib/python3.6/site-packages/sklearn/metrics/classification.py:1437: UndefinedMetricWarning: F-score is ill-defined and being set to 0.0 in labels with no predicted samples.\n",
      "  'precision', 'predicted', average, warn_for)\n",
      "/opt/tljh/user/lib/python3.6/site-packages/sklearn/metrics/classification.py:1437: UndefinedMetricWarning: Precision and F-score are ill-defined and being set to 0.0 in labels with no predicted samples.\n",
      "  'precision', 'predicted', average, warn_for)\n"
     ]
    },
    {
     "data": {
      "image/png": "[encoded data removed]",
      "text/plain": [
       "<Figure size 432x288 with 2 Axes>"
      ]
     },
     "metadata": {
      "needs_background": "light"
     },
     "output_type": "display_data"
    },
    {
     "name": "stdout",
     "output_type": "stream",
     "text": [
      "------------------------------------------\n"
     ]
    }
   ],
   "source": [
    "#Prediksi Logistic Regression\n",
    "\n",
    "print('Logistic Regression + TF-IDF')\n",
    "mnb_bow_predictions = train_predict_evaluate_model(classifier=linear_model.LogisticRegression(),\n",
    "                                                  train_features=xtrain_tfidf,\n",
    "                                                  train_labels=y_train,\n",
    "                                                  test_features=xvalid_tfidf,\n",
    "                                                  test_labels=y_test)\n",
    "print('------------------------------------------')\n",
    "\n",
    "print('Logistic Regression + N-Gram word level')\n",
    "mnb_bow_predictions = train_predict_evaluate_model(classifier=linear_model.LogisticRegression(),\n",
    "                                                  train_features=xtrain_tfidf_ngram,\n",
    "                                                  train_labels=y_train,\n",
    "                                                  test_features=xvalid_tfidf_ngram,\n",
    "                                                  test_labels=y_test)\n",
    "print('------------------------------------------')\n",
    "\n",
    "print('Logistic Regression + N-Gram Char Level')\n",
    "mnb_bow_predictions = train_predict_evaluate_model(classifier=linear_model.LogisticRegression(),\n",
    "                                                  train_features=xtrain_tfidf_ngram_chars,\n",
    "                                                  train_labels=y_train,\n",
    "                                                  test_features=xvalid_tfidf_ngram_chars,\n",
    "                                                  test_labels=y_test)\n",
    "print('------------------------------------------')\n",
    "\n",
    "print('Logistic Regression + W2V')\n",
    "mnb_bow_predictions = train_predict_evaluate_model(classifier=linear_model.LogisticRegression(),\n",
    "                                                 train_features=Xtrainw2v,\n",
    "                                                  train_labels=y_trainw2v,\n",
    "                                                  test_features=Xtestw2v,\n",
    "                                                  test_labels=y_testw2v)\n",
    "print('------------------------------------------')\n",
    "\n"
   ]
  },
  {
   "cell_type": "code",
   "execution_count": 36,
   "metadata": {
    "scrolled": false
   },
   "outputs": [
    {
     "name": "stdout",
     "output_type": "stream",
     "text": [
      "SVM TF-IDF\n",
      "Accuracy: 0.98\n",
      "Precision: 0.96\n",
      "Recall: 0.98\n",
      "F1 Score: 0.97\n",
      "CR:               precision    recall  f1-score   support\n",
      "\n",
      "           0       0.98      1.00      0.99      4184\n",
      "           1       0.00      0.00      0.00        76\n",
      "\n",
      "    accuracy                           0.98      4260\n",
      "   macro avg       0.49      0.50      0.50      4260\n",
      "weighted avg       0.96      0.98      0.97      4260\n",
      "\n",
      "Confusion matrix, without normalization\n",
      "[[4184    0]\n",
      " [  76    0]]\n"
     ]
    },
    {
     "data": {
      "image/png": "[encoded data removed]",
      "text/plain": [
       "<Figure size 432x288 with 2 Axes>"
      ]
     },
     "metadata": {
      "needs_background": "light"
     },
     "output_type": "display_data"
    },
    {
     "name": "stdout",
     "output_type": "stream",
     "text": [
      "------------------------------------------\n",
      "SVM N-Gram Word Level\n",
      "Accuracy: 0.98\n",
      "Precision: 0.96\n",
      "Recall: 0.98\n",
      "F1 Score: 0.97\n",
      "CR:               precision    recall  f1-score   support\n",
      "\n",
      "           0       0.98      1.00      0.99      4184\n",
      "           1       0.00      0.00      0.00        76\n",
      "\n",
      "    accuracy                           0.98      4260\n",
      "   macro avg       0.49      0.50      0.50      4260\n",
      "weighted avg       0.96      0.98      0.97      4260\n",
      "\n",
      "Confusion matrix, without normalization\n",
      "[[4184    0]\n",
      " [  76    0]]\n"
     ]
    },
    {
     "data": {
      "image/png": "[encoded data removed]",
      "text/plain": [
       "<Figure size 432x288 with 2 Axes>"
      ]
     },
     "metadata": {
      "needs_background": "light"
     },
     "output_type": "display_data"
    },
    {
     "name": "stdout",
     "output_type": "stream",
     "text": [
      "------------------------------------------\n",
      "SVM N-Gram Char Level\n",
      "Accuracy: 0.98\n",
      "Precision: 0.96\n",
      "Recall: 0.98\n",
      "F1 Score: 0.97\n",
      "CR:               precision    recall  f1-score   support\n",
      "\n",
      "           0       0.98      1.00      0.99      4184\n",
      "           1       0.00      0.00      0.00        76\n",
      "\n",
      "    accuracy                           0.98      4260\n",
      "   macro avg       0.49      0.50      0.50      4260\n",
      "weighted avg       0.96      0.98      0.97      4260\n",
      "\n",
      "Confusion matrix, without normalization\n",
      "[[4184    0]\n",
      " [  76    0]]\n"
     ]
    },
    {
     "data": {
      "image/png": "[encoded data removed]",
      "text/plain": [
       "<Figure size 432x288 with 2 Axes>"
      ]
     },
     "metadata": {
      "needs_background": "light"
     },
     "output_type": "display_data"
    },
    {
     "name": "stdout",
     "output_type": "stream",
     "text": [
      "------------------------------------------\n",
      "SVM + W2V\n",
      "Accuracy: 0.98\n",
      "Precision: 0.96\n",
      "Recall: 0.98\n",
      "F1 Score: 0.97\n",
      "CR:               precision    recall  f1-score   support\n",
      "\n",
      "           0       0.98      1.00      0.99      4174\n",
      "           1       0.00      0.00      0.00        87\n",
      "\n",
      "    accuracy                           0.98      4261\n",
      "   macro avg       0.49      0.50      0.49      4261\n",
      "weighted avg       0.96      0.98      0.97      4261\n",
      "\n",
      "Confusion matrix, without normalization\n",
      "[[4174    0]\n",
      " [  87    0]]\n"
     ]
    },
    {
     "name": "stderr",
     "output_type": "stream",
     "text": [
      "/opt/tljh/user/lib/python3.6/site-packages/sklearn/metrics/classification.py:1437: UndefinedMetricWarning: Precision is ill-defined and being set to 0.0 in labels with no predicted samples.\n",
      "  'precision', 'predicted', average, warn_for)\n",
      "/opt/tljh/user/lib/python3.6/site-packages/sklearn/metrics/classification.py:1437: UndefinedMetricWarning: F-score is ill-defined and being set to 0.0 in labels with no predicted samples.\n",
      "  'precision', 'predicted', average, warn_for)\n",
      "/opt/tljh/user/lib/python3.6/site-packages/sklearn/metrics/classification.py:1437: UndefinedMetricWarning: Precision and F-score are ill-defined and being set to 0.0 in labels with no predicted samples.\n",
      "  'precision', 'predicted', average, warn_for)\n"
     ]
    },
    {
     "data": {
      "image/png": "[encoded data removed]",
      "text/plain": [
       "<Figure size 432x288 with 2 Axes>"
      ]
     },
     "metadata": {
      "needs_background": "light"
     },
     "output_type": "display_data"
    },
    {
     "name": "stdout",
     "output_type": "stream",
     "text": [
      "------------------------------------------\n"
     ]
    }
   ],
   "source": [
    "#prediksi SVM\n",
    "print('SVM TF-IDF')\n",
    "mnb_bow_predictions = train_predict_evaluate_model(classifier=linear_model.SGDClassifier(),\n",
    "                                                  train_features=xtrain_tfidf,\n",
    "                                                  train_labels=y_train,\n",
    "                                                  test_features=xvalid_tfidf,\n",
    "                                                  test_labels=y_test)\n",
    "print('------------------------------------------')\n",
    "\n",
    "print('SVM N-Gram Word Level')\n",
    "mnb_bow_predictions = train_predict_evaluate_model(classifier=linear_model.SGDClassifier(),\n",
    "                                                  train_features=xtrain_tfidf_ngram,\n",
    "                                                  train_labels=y_train,\n",
    "                                                  test_features=xvalid_tfidf_ngram,\n",
    "                                                  test_labels=y_test)\n",
    "print('------------------------------------------')\n",
    "\n",
    "print('SVM N-Gram Char Level')\n",
    "mnb_bow_predictions = train_predict_evaluate_model(classifier=linear_model.SGDClassifier(),\n",
    "                                                  train_features=xtrain_tfidf_ngram_chars,\n",
    "                                                  train_labels=y_train,\n",
    "                                                  test_features=xvalid_tfidf_ngram_chars,\n",
    "                                                  test_labels=y_test)\n",
    "print('------------------------------------------')\n",
    "\n",
    "print('SVM + W2V')\n",
    "mnb_bow_predictions = train_predict_evaluate_model(classifier=linear_model.SGDClassifier(),\n",
    "                                                  train_features=Xtrainw2v,\n",
    "                                                  train_labels=y_trainw2v,\n",
    "                                                  test_features=Xtestw2v,\n",
    "                                                  test_labels=y_testw2v)\n",
    "print('------------------------------------------')"
   ]
  },
  {
   "cell_type": "code",
   "execution_count": 40,
   "metadata": {
    "scrolled": false
   },
   "outputs": [
    {
     "name": "stderr",
     "output_type": "stream",
     "text": [
      "/opt/tljh/user/lib/python3.6/site-packages/sklearn/linear_model/logistic.py:432: FutureWarning: Default solver will be changed to 'lbfgs' in 0.22. Specify a solver to silence this warning.\n",
      "  FutureWarning)\n"
     ]
    },
    {
     "data": {
      "text/plain": [
       "LogisticRegression(C=1.0, class_weight=None, dual=False, fit_intercept=True,\n",
       "                   intercept_scaling=1, l1_ratio=None, max_iter=100,\n",
       "                   multi_class='warn', n_jobs=None, penalty='l2',\n",
       "                   random_state=None, solver='warn', tol=0.0001, verbose=0,\n",
       "                   warm_start=False)"
      ]
     },
     "execution_count": 40,
     "metadata": {},
     "output_type": "execute_result"
    }
   ],
   "source": [
    "classifier = linear_model.LogisticRegression()\n",
    "classifier.fit(xtrain_tfidf_ngram_chars, y_train)"
   ]
  },
  {
   "cell_type": "code",
   "execution_count": 43,
   "metadata": {},
   "outputs": [
    {
     "name": "stdout",
     "output_type": "stream",
     "text": [
      "[0]\n"
     ]
    }
   ],
   "source": [
    "test = [\"china nganggur dikasih kerjaan di sini orang sini nganggur eh malah dikasih kartumiriss \"]\n",
    "output = classifier.predict(tfidf_vect_ngram_chars.transform(test))\n",
    "print(output)"
   ]
  },
  {
   "cell_type": "code",
   "execution_count": null,
   "metadata": {},
   "outputs": [],
   "source": []
  }
 ],
 "metadata": {
  "kernelspec": {
   "display_name": "Python 3",
   "language": "python",
   "name": "python3"
  },
  "language_info": {
   "codemirror_mode": {
    "name": "ipython",
    "version": 3
   },
   "file_extension": ".py",
   "mimetype": "text/x-python",
   "name": "python",
   "nbconvert_exporter": "python",
   "pygments_lexer": "ipython3",
   "version": "3.6.7"
  }
 },
 "nbformat": 4,
 "nbformat_minor": 2
}
